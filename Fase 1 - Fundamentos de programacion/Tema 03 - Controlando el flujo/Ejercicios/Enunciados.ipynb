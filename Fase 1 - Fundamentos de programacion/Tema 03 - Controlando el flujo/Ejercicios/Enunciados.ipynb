{
 "cells": [
  {
   "cell_type": "markdown",
   "metadata": {},
   "source": [
    "# Tema 03: Control de flujo (Enunciados)\n",
    "*Nota: Estos ejercicios son optativos para hacer al final de la unidad y están pensados para apoyar tu aprendizaje*."
   ]
  },
  {
   "cell_type": "markdown",
   "metadata": {},
   "source": [
    "**1) Realiza un programa que lea dos números por teclado y permita elegir entre 3 opciones en un menú:** \n",
    "* Mostrar una suma de los dos números\n",
    "* Mostrar una resta de los dos números (el primero menos el segundo)\n",
    "* Mostrar una multiplicación de los dos números\n",
    "* En caso de no introducir una opción válida, el programa informará de que no es correcta."
   ]
  },
  {
   "cell_type": "code",
   "execution_count": 2,
   "metadata": {},
   "outputs": [
    {
     "name": "stdout",
     "output_type": "stream",
     "text": [
      "Ingrese primer número: 2\n",
      "Ingrese segundo número: 1\n",
      "\tOperaciones Matemáticas\n",
      "    1) Suma\n",
      "    2) Resta\n",
      "    3) Multiplicación\n",
      "    4) Salir\n",
      "Escriba una opción:2\n",
      "La resta es:  1\n",
      "\tOperaciones Matemáticas\n",
      "    1) Suma\n",
      "    2) Resta\n",
      "    3) Multiplicación\n",
      "    4) Salir\n",
      "Escriba una opción:4\n",
      "Adios\n"
     ]
    }
   ],
   "source": [
    "# Completa el ejercicio aquí\n",
    "num1 = int(input(\"Ingrese primer número: \"))\n",
    "num2 = int(input(\"Ingrese segundo número: \"))\n",
    "while(True):\n",
    "    print(\"\"\"\\tOperaciones Matemáticas\n",
    "    1) Suma\n",
    "    2) Resta\n",
    "    3) Multiplicación\n",
    "    4) Salir\"\"\")\n",
    "    opcion = int(input(\"Escriba una opción:\"))\n",
    "    if(opcion == 1):\n",
    "        print(\"La suma es : \", num1 + num2)\n",
    "    elif(opcion == 2):\n",
    "        print(\"La resta es: \", num1 - num2)\n",
    "    elif(opcion == 3):\n",
    "        print(\"La multiplicación es \", num1 * num2)\n",
    "    elif(opcion == 4):\n",
    "        print(\"Adios\")\n",
    "        break\n",
    "    else:\n",
    "        print(\"La opcion ingresada es incorrecta\")\n",
    "    \n",
    "    \n"
   ]
  },
  {
   "cell_type": "markdown",
   "metadata": {},
   "source": [
    "**2) Realiza un programa que lea un número impar por teclado. Si el usuario no introduce un número impar, debe repetise el proceso hasta que lo introduzca correctamente.**"
   ]
  },
  {
   "cell_type": "code",
   "execution_count": null,
   "metadata": {},
   "outputs": [
    {
     "name": "stdout",
     "output_type": "stream",
     "text": [
      "Ingrese un número: 4\n",
      "Ingrese número impar\n",
      "Ingrese un número: 6\n",
      "Ingrese número impar\n",
      "Ingrese un número: 1\n",
      "Bien Hecho\n",
      "Ingrese un número: 1\n",
      "Bien Hecho\n",
      "Ingrese un número: 3\n",
      "Bien Hecho\n",
      "Ingrese un número: e\n",
      "Jeje Error\n"
     ]
    }
   ],
   "source": [
    "# Completa el ejercicio aquí\n",
    "while(True):\n",
    "    try:\n",
    "        numero = int(input(\"Ingrese un número: \"))\n",
    "        if(numero % 2 == 0):\n",
    "            print(\"Ingrese número impar\")\n",
    "        elif(numero % 2 != 0):\n",
    "            print(\"Bien Hecho\")\n",
    "    except ValueError:\n",
    "        print(\"Jeje Error\")\n"
   ]
  },
  {
   "cell_type": "markdown",
   "metadata": {},
   "source": [
    "**3) Realiza un programa que sume todos los números enteros pares desde el 0 hasta el 100:**\n",
    "\n",
    "*Sugerencia: Puedes utilizar la funciones sum() y range() para hacerlo más fácil. El tercer parámetro en la función range(inicio, fin, salto) indica un salto de números, pruébalo.*"
   ]
  },
  {
   "cell_type": "code",
   "execution_count": 6,
   "metadata": {},
   "outputs": [
    {
     "name": "stdout",
     "output_type": "stream",
     "text": [
      "2550\n"
     ]
    }
   ],
   "source": [
    "# Completa el ejercicio aquí\n",
    "print(sum(range(0,101,2)))\n"
   ]
  },
  {
   "cell_type": "code",
   "execution_count": 5,
   "metadata": {},
   "outputs": [
    {
     "name": "stdout",
     "output_type": "stream",
     "text": [
      "[0, 2, 4, 6, 8, 10, 12, 14, 16, 18, 20, 22, 24, 26, 28, 30, 32, 34, 36, 38, 40, 42, 44, 46, 48, 50, 52, 54, 56, 58, 60, 62, 64, 66, 68, 70, 72, 74, 76, 78, 80, 82, 84, 86, 88, 90, 92, 94, 96, 98, 100]\n"
     ]
    }
   ],
   "source": [
    "print(list(range(0,101,2)))"
   ]
  },
  {
   "cell_type": "code",
   "execution_count": 1,
   "metadata": {},
   "outputs": [
    {
     "name": "stdout",
     "output_type": "stream",
     "text": [
      "Hola\n"
     ]
    }
   ],
   "source": [
    "print(\"Hola\")"
   ]
  },
  {
   "cell_type": "code",
   "execution_count": 10,
   "metadata": {},
   "outputs": [
    {
     "name": "stdout",
     "output_type": "stream",
     "text": [
      "[0, 3, 6, 9]\n"
     ]
    }
   ],
   "source": [
    "a = list(range(0,10,3))\n",
    "print(a)\n"
   ]
  },
  {
   "cell_type": "code",
   "execution_count": 4,
   "metadata": {},
   "outputs": [
    {
     "name": "stdout",
     "output_type": "stream",
     "text": [
      "1\n",
      "2\n",
      "3\n"
     ]
    }
   ],
   "source": [
    "for i in range(1,4):\n",
    "    print(i)"
   ]
  },
  {
   "cell_type": "markdown",
   "metadata": {},
   "source": [
    "**4) Realiza un programa que pida al usuario cuantos números quiere introducir. Luego lee todos los números y realiza una media aritmética:**\n"
   ]
  },
  {
   "cell_type": "code",
   "execution_count": 11,
   "metadata": {},
   "outputs": [
    {
     "name": "stdout",
     "output_type": "stream",
     "text": [
      "Ingese cuantos números desea introducir: 10\n",
      "Ingrese 1° número: 3\n",
      "Ingrese 2° número: 2\n",
      "Ingrese 3° número: 4\n",
      "Ingrese 4° número: 6\n",
      "Ingrese 5° número: 7\n",
      "Ingrese 6° número: 4\n",
      "Ingrese 7° número: 9\n",
      "Ingrese 8° número: 1\n",
      "Ingrese 9° número: 12\n",
      "Ingrese 10° número: 23\n",
      "La media aritmética es:  7.1\n",
      "[3, 2, 4, 6, 7, 4, 9, 1, 12, 23]\n",
      "7.1\n"
     ]
    }
   ],
   "source": [
    "## Completa el ejercicio aquí\n",
    "arreglo =[]\n",
    "sum = 0\n",
    "sum2 = 0\n",
    "cantidad = int(input(\"Ingese cuantos números desea introducir: \"))\n",
    "for i in range(1,cantidad+1):\n",
    "    #print(\"Ingrese \",i,\"° número: \", end = \" \")\n",
    "    inp = input(f\"Ingrese {i}° número: \")\n",
    "    arreglo.append(int(inp))\n",
    "    sum += arreglo[i-1]\n",
    "    sum2 += int(inp)\n",
    "print(\"La media aritmética es: \", sum/cantidad)\n",
    "print(arreglo)\n",
    "print(sum2/cantidad)\n",
    "    "
   ]
  },
  {
   "cell_type": "markdown",
   "metadata": {},
   "source": [
    "**5) Realiza un programa que pida al usuario un número entero del 0 al 9, y que mientras el número no sea correcto se repita el proceso. Luego debe comprobar si el número se encuentra en la lista de números y notificarlo:**\n",
    "\n",
    "*Consejo: La sintaxis \"valor in lista\" permite comprobar fácilmente si un valor se encuentra en una lista (devuelve True o False)*"
   ]
  },
  {
   "cell_type": "code",
   "execution_count": null,
   "metadata": {},
   "outputs": [],
   "source": [
    "# Completa el ejercicio aquí\n",
    "numeros = [1, 3, 6, 9]\n",
    "while(True):\n",
    "    n = int(input(\"Ingrese número del 0-9: \"))\n",
    "    band = 1\n",
    "    if(n >= 0 and n <= 9):\n",
    "        for i,j in enumerate(numeros):\n",
    "            if(n == numeros[i]):\n",
    "                print(\"si está en la lista, Muy bien!\")\n",
    "                band = 0\n",
    "        if(band == 1):\n",
    "            print(\"El número ingesado no esta en la lista\")\n",
    "    else:\n",
    "        print(\"Ingese un numero del 0-9!\")\n",
    "        "
   ]
  },
  {
   "cell_type": "code",
   "execution_count": 17,
   "metadata": {},
   "outputs": [
    {
     "name": "stdout",
     "output_type": "stream",
     "text": [
      "Ingrese un número del 0 - 9: 2\n",
      "El número 2 NO esta en la lista [1, 3, 6, 9]\n"
     ]
    }
   ],
   "source": [
    "numeros = [1, 3, 6, 9]\n",
    "while True:\n",
    "    numero = int(input(\"Ingrese un número del 0 - 9: \"))\n",
    "    if numero >= 0 and numero <= 9:\n",
    "        break\n",
    "if numero in numeros:\n",
    "    print(f\"El número {numero} SI esta en la lista {numeros}\")\n",
    "else:\n",
    "    print(f\"El número {numero} NO esta en la lista {numeros}\")\n",
    "        "
   ]
  },
  {
   "cell_type": "markdown",
   "metadata": {},
   "source": [
    "**6) Utilizando la función range() y la conversión a listas genera las siguientes listas dinámicamente:**\n",
    "* Todos los números del 0 al 10 [0, 1, 2, ..., 10]\n",
    "* Todos los números del -10 al 0 [-10, -9, -8, ..., 0]\n",
    "* Todos los números pares del 0 al 20 [0, 2, 4, ..., 20]\n",
    "* Todos los números impares entre -20 y 0 [-19, -17, -15, ..., -1]\n",
    "* Todos los números múltiples de 5 del 0 al 50 [0, 5, 10, ..., 50]\n",
    "\n",
    "*Pista: Utiliza el tercer parámetro de la función range(inicio, fin, salto).*"
   ]
  },
  {
   "cell_type": "code",
   "execution_count": 13,
   "metadata": {},
   "outputs": [
    {
     "name": "stdout",
     "output_type": "stream",
     "text": [
      "[0, 1, 2, 3, 4, 5, 6, 7, 8, 9, 10]\n",
      "[-10, -9, -8, -7, -6, -5, -4, -3, -2, -1, 0]\n",
      "[0, 2, 4, 6, 8, 10, 12, 14, 16, 18, 20]\n",
      "[-19, -17, -15, -13, -11, -9, -7, -5, -3, -1]\n",
      "[0, 5, 10, 15, 20, 25, 30, 35, 40, 45, 50]\n"
     ]
    }
   ],
   "source": [
    "print(list(range(0, 11)))\n",
    "print(list(range(-10, 1)))\n",
    "print(list(range(0, 21, 2)))\n",
    "print(list(range(-19, 0, 2)))\n",
    "print(list(range(0, 51, 5)))"
   ]
  },
  {
   "cell_type": "code",
   "execution_count": 4,
   "metadata": {},
   "outputs": [
    {
     "name": "stdout",
     "output_type": "stream",
     "text": [
      "0\n",
      "1\n",
      "2\n",
      "3\n",
      "4\n",
      "5\n",
      "6\n",
      "7\n",
      "8\n",
      "9\n",
      "10\n"
     ]
    }
   ],
   "source": [
    "# Completa el ejercicio\n",
    "for i in range(0,11,1):\n",
    "    print(i)"
   ]
  },
  {
   "cell_type": "code",
   "execution_count": 5,
   "metadata": {},
   "outputs": [
    {
     "name": "stdout",
     "output_type": "stream",
     "text": [
      "-10\n",
      "-9\n",
      "-8\n",
      "-7\n",
      "-6\n",
      "-5\n",
      "-4\n",
      "-3\n",
      "-2\n",
      "-1\n",
      "0\n"
     ]
    }
   ],
   "source": [
    "for i in range(-10,1,1):\n",
    "    print(i)"
   ]
  },
  {
   "cell_type": "markdown",
   "metadata": {},
   "source": [
    "**7) Dadas dos listas, debes generar una tercera con todos los elementos que se repitan en ellas, pero no debe repetise ningún elemento en la nueva lista:**"
   ]
  },
  {
   "cell_type": "code",
   "execution_count": 19,
   "metadata": {},
   "outputs": [
    {
     "name": "stdout",
     "output_type": "stream",
     "text": [
      "[3, 4, 8, 77]\n"
     ]
    }
   ],
   "source": [
    "# Completa el ejercicio aquí\n",
    "l1 = [1,2,3,4,6,8,11,77,3,3,3,3,3,3]\n",
    "l2 = [3,4,5,8,12,16,77]\n",
    "l3 = []\n",
    "for i,j in enumerate(l1):\n",
    "    for x,y in enumerate(l2):\n",
    "        if(l1[i] == l2[x]):\n",
    "            if(len(l3) == 0):\n",
    "                l3.append(l1[i])\n",
    "            else:\n",
    "                band = 1\n",
    "                for p,q in enumerate(l3):\n",
    "                    if(l1[i] == l3[p]):\n",
    "                        band = 0\n",
    "                if(band == 1):\n",
    "                    l3.append(l1[i])\n",
    "\n",
    "print(l3)                "
   ]
  },
  {
   "cell_type": "code",
   "execution_count": null,
   "metadata": {},
   "outputs": [],
   "source": []
  },
  {
   "cell_type": "code",
   "execution_count": 32,
   "metadata": {},
   "outputs": [
    {
     "name": "stdout",
     "output_type": "stream",
     "text": [
      "[3, 4, 8, 77]\n"
     ]
    }
   ],
   "source": [
    "l1 = [1,2,3,4,6,8,11,77,3,3,3,3,3,3]\n",
    "l2 = [3,4,5,8,12,16,77]\n",
    "l3 = []\n",
    "\n",
    "for indice, num in enumerate(l1):\n",
    "    if l1[indice] in l2:\n",
    "        if l1[indice] in l3:\n",
    "            continue\n",
    "        else:\n",
    "            l3.append(l1[indice])\n",
    "print(l3)"
   ]
  },
  {
   "cell_type": "code",
   "execution_count": 33,
   "metadata": {},
   "outputs": [
    {
     "name": "stdout",
     "output_type": "stream",
     "text": [
      "[3, 4, 8, 77]\n"
     ]
    }
   ],
   "source": [
    "l1 = [1,2,3,4,6,8,11,77,3,3,3,3,3,3]\n",
    "l2 = [3,4,5,8,12,16,77]\n",
    "l3 = []\n",
    "for numero in l1:\n",
    "    if numero in l2 and numero not in l3:\n",
    "        l3.append(numero)\n",
    "print(l3)"
   ]
  },
  {
   "cell_type": "code",
   "execution_count": null,
   "metadata": {},
   "outputs": [],
   "source": []
  },
  {
   "cell_type": "code",
   "execution_count": null,
   "metadata": {},
   "outputs": [],
   "source": []
  },
  {
   "cell_type": "code",
   "execution_count": 34,
   "metadata": {},
   "outputs": [],
   "source": [
    "l3=[]\n",
    "for p1,q2 in enumerate(l3):\n",
    "    print(4)"
   ]
  }
 ],
 "metadata": {
  "anaconda-cloud": {},
  "kernelspec": {
   "display_name": "Python 3",
   "language": "python",
   "name": "python3"
  },
  "language_info": {
   "codemirror_mode": {
    "name": "ipython",
    "version": 3
   },
   "file_extension": ".py",
   "mimetype": "text/x-python",
   "name": "python",
   "nbconvert_exporter": "python",
   "pygments_lexer": "ipython3",
   "version": "3.7.3"
  }
 },
 "nbformat": 4,
 "nbformat_minor": 1
}
