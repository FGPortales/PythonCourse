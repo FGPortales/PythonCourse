{
 "cells": [
  {
   "cell_type": "code",
   "execution_count": null,
   "metadata": {},
   "outputs": [],
   "source": [
    "c = 0\n",
    "while c <= 10:\n",
    "    c += 1    \n",
    "    if(c == 5):\n",
    "        print(\"el valor esta en 5, cuidado!!\")\n",
    "        continue\n",
    "    else:\n",
    "        print(c)\n"
   ]
  },
  {
   "cell_type": "code",
   "execution_count": null,
   "metadata": {},
   "outputs": [],
   "source": [
    "print(\"Bienvienido al menú interactivo\")\n",
    "while(True):\n",
    "    print(\"\"\"¿Qué quieres hacer? Escribe una opción\n",
    "    1) Saludar\n",
    "    2) Sumar dos números\n",
    "    3) Salir\"\"\")\n",
    "    opc = int(input(\"aqui\"))\n",
    "    if opc == 1:\n",
    "        print(\"Hola, espero que lo estes pasando bien\")\n",
    "    elif opc == 2:\n",
    "        n1 = float(input(\"Introduce el primer número: \"))\n",
    "        n2 = float(input(\"Introduce el segundo número: \"))\n",
    "        print(\"El resultado de la suma es: \", n1 + n2)\n",
    "    elif opc == 3:\n",
    "        print(\"Hasta luego ha sido un placer ayudarte\")\n",
    "        break\n",
    "    else:\n",
    "        print(\"Comando desconocido, vuelve a intentarlo\")"
   ]
  },
  {
   "cell_type": "code",
   "execution_count": null,
   "metadata": {},
   "outputs": [],
   "source": []
  },
  {
   "cell_type": "code",
   "execution_count": null,
   "metadata": {},
   "outputs": [],
   "source": []
  },
  {
   "cell_type": "code",
   "execution_count": 2,
   "metadata": {},
   "outputs": [
    {
     "name": "stdout",
     "output_type": "stream",
     "text": [
      "C vale  0\n",
      "C vale  1\n",
      "C vale  2\n",
      "C vale  3\n",
      "C vale  4\n",
      "C vale  5\n"
     ]
    }
   ],
   "source": [
    "c = 0\n",
    "while c <= 5:\n",
    "    print(\"C vale \",c)\n",
    "    c += 1"
   ]
  },
  {
   "cell_type": "code",
   "execution_count": 4,
   "metadata": {},
   "outputs": [
    {
     "name": "stdout",
     "output_type": "stream",
     "text": [
      "C vale  0\n",
      "C vale  1\n",
      "C vale  2\n",
      "C vale  3\n",
      "C vale  4\n",
      "C vale  5\n",
      "Se ha completado toda la operacion\n"
     ]
    }
   ],
   "source": [
    "c = 0\n",
    "while c <= 5:\n",
    "    print(\"C vale \",c)\n",
    "    c += 1\n",
    "else:\n",
    "    print(\"Se ha completado toda la operacion\")\n",
    "    "
   ]
  },
  {
   "cell_type": "code",
   "execution_count": 1,
   "metadata": {},
   "outputs": [
    {
     "name": "stdout",
     "output_type": "stream",
     "text": [
      "C vale  1\n",
      "C vale  2\n",
      "C vale  3\n",
      "rompemos cuando c vale  4\n"
     ]
    }
   ],
   "source": [
    "c = 0\n",
    "while c <= 5:\n",
    "    c += 1\n",
    "    if (c == 4):\n",
    "        print(\"rompemos cuando c vale \", c)\n",
    "        break\n",
    "    print(\"C vale \",c)\n",
    "else:\n",
    "    print(\"Se ha completado toda la operacion\")"
   ]
  },
  {
   "cell_type": "code",
   "execution_count": 2,
   "metadata": {},
   "outputs": [
    {
     "name": "stdout",
     "output_type": "stream",
     "text": [
      "C vale  1\n",
      "C vale  2\n",
      "C vale  5\n",
      "C vale  6\n",
      "Se ha completado toda la operacion continue\n"
     ]
    }
   ],
   "source": [
    "c = 0\n",
    "while c <= 5:\n",
    "    c += 1\n",
    "    if (c == 3 or c == 4):\n",
    "        #print(\"continuamos con la siguiente iteracion cuando c vale \", c)\n",
    "        continue\n",
    "    print(\"C vale \",c)\n",
    "else:\n",
    "    print(\"Se ha completado toda la operacion continue\")"
   ]
  },
  {
   "cell_type": "code",
   "execution_count": null,
   "metadata": {},
   "outputs": [
    {
     "name": "stdout",
     "output_type": "stream",
     "text": [
      "1\n",
      "Hola, espero que te lo estés pasando bien\n",
      "\n",
      "¿Que quiered hacer? Escribe una opción\n",
      "    1) Saludar\n",
      "    2) Sumar dos numeros\n",
      "    3) Salir\n"
     ]
    }
   ],
   "source": [
    "print(\"Bienvenido al menú intertactivo\")\n",
    "while(True):\n",
    "    print(\"\"\"¿Que quiered hacer? Escribe una opción\n",
    "    1) Saludar\n",
    "    2) Sumar dos numeros\n",
    "    3) Salir\"\"\")\n",
    "    opcion = input()\n",
    "    if(opcion == '1'):\n",
    "        print(\"Hola, espero que te lo estés pasando bien\\n\")\n",
    "    elif opcion == '2':\n",
    "        n1 = float(input(\"Introduce el primer número: \"))\n",
    "        n2 = float(input(\"Introduce el segundo número: \"))\n",
    "        print(\"El resultado de la suma es: \", n1 + n2)\n",
    "    elif opcion == '3':\n",
    "        print(\"¡Hasta Luego! Ha sido un placer ayudarte\\n\")\n",
    "        break\n",
    "    else:\n",
    "        print(\"Comando desconocido, vuelve a intentarlo\\n\")"
   ]
  },
  {
   "cell_type": "code",
   "execution_count": null,
   "metadata": {},
   "outputs": [],
   "source": []
  }
 ],
 "metadata": {
  "kernelspec": {
   "display_name": "Python 3",
   "language": "python",
   "name": "python3"
  },
  "language_info": {
   "codemirror_mode": {
    "name": "ipython",
    "version": 3
   },
   "file_extension": ".py",
   "mimetype": "text/x-python",
   "name": "python",
   "nbconvert_exporter": "python",
   "pygments_lexer": "ipython3",
   "version": "3.7.3"
  }
 },
 "nbformat": 4,
 "nbformat_minor": 1
}
