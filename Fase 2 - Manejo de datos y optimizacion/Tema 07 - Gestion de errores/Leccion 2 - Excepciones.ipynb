{
 "cells": [
  {
   "cell_type": "code",
   "execution_count": 1,
   "metadata": {},
   "outputs": [
    {
     "name": "stdout",
     "output_type": "stream",
     "text": [
      "Introduce un número: aaa\n"
     ]
    },
    {
     "ename": "ValueError",
     "evalue": "could not convert string to float: 'aaa'",
     "output_type": "error",
     "traceback": [
      "\u001b[1;31m---------------------------------------------------------------------------\u001b[0m",
      "\u001b[1;31mValueError\u001b[0m                                Traceback (most recent call last)",
      "\u001b[1;32m<ipython-input-1-59961d56dfa0>\u001b[0m in \u001b[0;36m<module>\u001b[1;34m\u001b[0m\n\u001b[1;32m----> 1\u001b[1;33m \u001b[0mn\u001b[0m \u001b[1;33m=\u001b[0m \u001b[0mfloat\u001b[0m\u001b[1;33m(\u001b[0m\u001b[0minput\u001b[0m\u001b[1;33m(\u001b[0m\u001b[1;34m\"Introduce un número: \"\u001b[0m\u001b[1;33m)\u001b[0m\u001b[1;33m)\u001b[0m\u001b[1;33m\u001b[0m\u001b[1;33m\u001b[0m\u001b[0m\n\u001b[0m\u001b[0;32m      2\u001b[0m \u001b[0mm\u001b[0m \u001b[1;33m=\u001b[0m \u001b[1;36m4\u001b[0m\u001b[1;33m\u001b[0m\u001b[1;33m\u001b[0m\u001b[0m\n\u001b[0;32m      3\u001b[0m \u001b[0mprint\u001b[0m\u001b[1;33m(\u001b[0m\u001b[1;34m\"{}/{}={}\"\u001b[0m\u001b[1;33m.\u001b[0m\u001b[0mformat\u001b[0m\u001b[1;33m(\u001b[0m\u001b[0mn\u001b[0m\u001b[1;33m,\u001b[0m\u001b[0mm\u001b[0m\u001b[1;33m,\u001b[0m\u001b[0mn\u001b[0m\u001b[1;33m/\u001b[0m\u001b[0mm\u001b[0m\u001b[1;33m)\u001b[0m\u001b[1;33m)\u001b[0m\u001b[1;33m\u001b[0m\u001b[1;33m\u001b[0m\u001b[0m\n",
      "\u001b[1;31mValueError\u001b[0m: could not convert string to float: 'aaa'"
     ]
    }
   ],
   "source": [
    "n = float(input(\"Introduce un número: \"))\n",
    "m = 4\n",
    "print(\"{}/{}={}\".format(n,m,n/m))"
   ]
  },
  {
   "cell_type": "code",
   "execution_count": 2,
   "metadata": {},
   "outputs": [
    {
     "name": "stdout",
     "output_type": "stream",
     "text": [
      "Introduce un número: saaa\n",
      "ha ocurrido un error, introduce bien el número\n"
     ]
    }
   ],
   "source": [
    "try: \n",
    "    n = float(input(\"Introduce un número: \"))\n",
    "    m = 4\n",
    "    print(\"{}/{}={}\".format(n,m,n/m))\n",
    "except:\n",
    "    print(\"ha ocurrido un error, introduce bien el número\")\n",
    "    "
   ]
  },
  {
   "cell_type": "code",
   "execution_count": 3,
   "metadata": {},
   "outputs": [
    {
     "name": "stdout",
     "output_type": "stream",
     "text": [
      "Introduce un número: aaa\n",
      "ha ocurrido un error, introduce bien el número\n",
      "Introduce un número: 234edw\n",
      "ha ocurrido un error, introduce bien el número\n",
      "Introduce un número: 2435tygdf\n",
      "ha ocurrido un error, introduce bien el número\n",
      "Introduce un número: 2345\n",
      "2345.0/4=586.25\n"
     ]
    }
   ],
   "source": [
    "while(True):\n",
    "    try: \n",
    "        n = float(input(\"Introduce un número: \"))\n",
    "        m = 4\n",
    "        print(\"{}/{}={}\".format(n,m,n/m))\n",
    "        break # importante romper la iteración si todo ha salido bien\n",
    "    except:\n",
    "        print(\"ha ocurrido un error, introduce bien el número\")\n",
    "    "
   ]
  },
  {
   "cell_type": "code",
   "execution_count": 4,
   "metadata": {},
   "outputs": [
    {
     "name": "stdout",
     "output_type": "stream",
     "text": [
      "Introduce un número: 10\n",
      "10.0/4=2.5\n",
      "Todo ha funcionado correctamente\n"
     ]
    }
   ],
   "source": [
    "while(True):\n",
    "    try: \n",
    "        n = float(input(\"Introduce un número: \"))\n",
    "        m = 4\n",
    "        print(\"{}/{}={}\".format(n,m,n/m))\n",
    "\n",
    "    except:\n",
    "        print(\"ha ocurrido un error, introduce bien el número\")\n",
    "    else:\n",
    "        print(\"Todo ha funcionado correctamente\")\n",
    "        break # importante romper la iteración si todo ha salido bien"
   ]
  },
  {
   "cell_type": "code",
   "execution_count": 6,
   "metadata": {},
   "outputs": [
    {
     "name": "stdout",
     "output_type": "stream",
     "text": [
      "Introduce un número: aa\n",
      "ha ocurrido un error, introduce bien el número\n",
      "Fin de la iteración\n",
      "Introduce un número: 10\n",
      "10.0/4=2.5\n",
      "Todo ha funcionado correctamente\n",
      "Fin de la iteración\n"
     ]
    }
   ],
   "source": [
    "while(True):\n",
    "    try: \n",
    "        n = float(input(\"Introduce un número: \"))\n",
    "        m = 4\n",
    "        print(\"{}/{}={}\".format(n,m,n/m))\n",
    "\n",
    "    except:\n",
    "        print(\"ha ocurrido un error, introduce bien el número\")\n",
    "    else:\n",
    "        print(\"Todo ha funcionado correctamente\")\n",
    "        break # importante romper la iteración si todo ha salido bien\n",
    "    finally:\n",
    "        print(\"Fin de la iteración\")"
   ]
  },
  {
   "cell_type": "code",
   "execution_count": null,
   "metadata": {},
   "outputs": [],
   "source": []
  }
 ],
 "metadata": {
  "kernelspec": {
   "display_name": "Python 3",
   "language": "python",
   "name": "python3"
  },
  "language_info": {
   "codemirror_mode": {
    "name": "ipython",
    "version": 3
   },
   "file_extension": ".py",
   "mimetype": "text/x-python",
   "name": "python",
   "nbconvert_exporter": "python",
   "pygments_lexer": "ipython3",
   "version": "3.7.3"
  }
 },
 "nbformat": 4,
 "nbformat_minor": 1
}
